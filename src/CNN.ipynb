{
 "cells": [
  {
   "cell_type": "code",
   "execution_count": 134,
   "metadata": {},
   "outputs": [],
   "source": [
    "# importamos la libreria\n",
    "import tensorflow as tf\n",
    "from tensorflow.python import control_flow_ops\n",
    "import time, os\n",
    "\n",
    "# importamos librerías adicionales\n",
    "import numpy as np\n",
    "import matplotlib.pyplot as plt\n",
    "import pickle\n",
    "import glob\n",
    "from skimage.color import rgb2gray\n",
    "import pathlib\n",
    "import skimage.data as imd\n",
    "from sklearn.model_selection import train_test_split\n",
    "from tflearn.data_preprocessing import ImagePreprocessing\n",
    "from tflearn.data_augmentation import ImageAugmentation\n",
    "from tflearn.data_utils import to_categorical, shuffle\n",
    "from tflearn.layers.core import input_data, dropout, fully_connected\n",
    "from tflearn.layers.conv import conv_2d, max_pool_2d\n",
    "from tflearn.layers.estimator import regression\n",
    "from tflearn.metrics import Accuracy\n",
    "from tflearn import DNN\n",
    "import tflearn\n",
    "tf.reset_default_graph()\n",
    "\n",
    "%matplotlib inline\n",
    "\n",
    "# funciones de ayuda\n",
    "def plot_img(im):\n",
    "    im_grey = rgb2gray(im)\n",
    "    plt.figure(figsize=(10,4))\n",
    "\n",
    "    plt.subplot(1,2,1)\n",
    "    plt.imshow(im)\n",
    "    plt.axis('off')\n",
    "    plt.title('Original Image')\n",
    "\n",
    "    plt.subplot(1,2,2)\n",
    "    plt.imshow(im_gray, cmap='gray')\n",
    "    plt.axis('off')\n",
    "    plt.title('Grayscale Image')\n",
    "\n",
    "    plt.tight_layout()\n",
    "    plt.show()\n",
    "\n",
    "def load_data(path):\n",
    "    images, labels = [], []\n",
    "    folders = os.listdir(path)\n",
    "    for i in range(len(folders)):\n",
    "        dir_img = os.path.join(path, folders[i])\n",
    "        for j in os.listdir(dir_img):\n",
    "            img = os.path.join(dir_img, j)\n",
    "            img = imd.imread(img)\n",
    "            try:\n",
    "                labels.append(i)\n",
    "                images.append(np.array(img))\n",
    "            except:\n",
    "                continue\n",
    "    return np.array(images, dtype=np.float64), np.array(labels)"
   ]
  },
  {
   "cell_type": "code",
   "execution_count": 135,
   "metadata": {},
   "outputs": [
    {
     "data": {
      "text/plain": [
       "dtype('float64')"
      ]
     },
     "execution_count": 135,
     "metadata": {},
     "output_type": "execute_result"
    }
   ],
   "source": [
    "images, labels = load_data(\"./data\")\n",
    "images.dtype"
   ]
  },
  {
   "cell_type": "code",
   "execution_count": 136,
   "metadata": {},
   "outputs": [
    {
     "data": {
      "text/plain": [
       "(3368, 32, 32, 3)"
      ]
     },
     "execution_count": 136,
     "metadata": {},
     "output_type": "execute_result"
    }
   ],
   "source": [
    "\"\"\" Process our TF dataset \"\"\"\n",
    "# split our tf set in a test and training part\n",
    "X, X_test, Y, Y_test = train_test_split(images, labels, test_size=0.1, random_state=42)\n",
    "#X, Y = shuffle(X, Y)\n",
    "# encode our labels\n",
    "Y = to_categorical(Y, 5)\n",
    "Y_test = to_categorical(Y_test, 5)\n",
    "X.shape"
   ]
  },
  {
   "cell_type": "code",
   "execution_count": 137,
   "metadata": {},
   "outputs": [],
   "source": [
    "tf_img_prep = ImagePreprocessing()\n",
    "tf_img_prep.add_featurewise_zero_center()\n",
    "tf_img_prep.add_featurewise_stdnorm()\n",
    "\n",
    "\n",
    "# Randomly create extra image data by rotating and flipping images\n",
    "tf_img_aug = ImageAugmentation()\n",
    "tf_img_aug.add_random_flip_leftright()\n",
    "tf_img_aug.add_random_rotation(max_angle=30.)\n"
   ]
  },
  {
   "cell_type": "code",
   "execution_count": 138,
   "metadata": {},
   "outputs": [
    {
     "name": "stdout",
     "output_type": "stream",
     "text": [
      "Training Step: 1324  | total loss: \u001b[1m\u001b[32m0.92274\u001b[0m\u001b[0m | time: 11.164s\n",
      "| Adam | epoch: 025 | loss: 0.92274 - acc: 0.6850 -- iter: 3328/3368\n",
      "Training Step: 1325  | total loss: \u001b[1m\u001b[32m0.89822\u001b[0m\u001b[0m | time: 12.374s\n",
      "| Adam | epoch: 025 | loss: 0.89822 - acc: 0.6930 | val_loss: 0.84260 - val_acc: 0.7013 -- iter: 3368/3368\n",
      "--\n"
     ]
    }
   ],
   "source": [
    "# Convolutional network building\n",
    "network = input_data(shape=[None, 32, 32, 3],\n",
    "                     data_preprocessing=tf_img_prep,\n",
    "                     data_augmentation=tf_img_aug)\n",
    "network = conv_2d(network, 32, 3, activation='relu')\n",
    "network = max_pool_2d(network, 2)\n",
    "network = dropout(network, 0.5)\n",
    "network = fully_connected(network, 512, activation='relu')\n",
    "network = dropout(network, 0.5)\n",
    "network = fully_connected(network, 5, activation='softmax')\n",
    "network = regression(network, optimizer='adam',\n",
    "                     loss='categorical_crossentropy',\n",
    "                     learning_rate=0.001)\n",
    "\n",
    "# Train using classifier\n",
    "model = tflearn.DNN(network, tensorboard_verbose=3)\n",
    "model.fit(X, Y, n_epoch=25, shuffle=True, validation_set=(X_test, Y_test),\n",
    "          show_metric=True)\n"
   ]
  },
  {
   "cell_type": "code",
   "execution_count": 139,
   "metadata": {},
   "outputs": [
    {
     "name": "stdout",
     "output_type": "stream",
     "text": [
      "\n",
      "\n",
      "\n",
      "Prediccion:\n",
      "\n",
      "Es un TULIPAN!\n",
      "\n",
      "Probabilidades: [21.414  0.429  2.796  1.558 73.803]\n",
      "\n",
      "\n",
      "\n",
      "\n"
     ]
    },
    {
     "name": "stderr",
     "output_type": "stream",
     "text": [
      "/home/gosen/.local/share/virtualenvs/src-pbKLSnqF/lib/python3.6/site-packages/ipykernel_launcher.py:4: DeprecationWarning: `imread` is deprecated!\n",
      "`imread` is deprecated in SciPy 1.0.0.\n",
      "Use ``matplotlib.pyplot.imread`` instead.\n",
      "  after removing the cwd from sys.path.\n",
      "/home/gosen/.local/share/virtualenvs/src-pbKLSnqF/lib/python3.6/site-packages/ipykernel_launcher.py:8: DeprecationWarning: `imresize` is deprecated!\n",
      "`imresize` is deprecated in SciPy 1.0.0, and will be removed in 1.3.0.\n",
      "Use Pillow instead: ``numpy.array(Image.fromarray(arr).resize())``.\n",
      "  \n"
     ]
    }
   ],
   "source": [
    "import scipy\n",
    "from skimage.transform import resize\n",
    "image_path = './daisy.jpg'\n",
    "img = scipy.ndimage.imread(image_path, mode=\"RGB\")\n",
    "\n",
    "# Scale it to 32X32\n",
    "img = scipy.misc.imresize(img, (32, 32),\n",
    "                                  interp=\"bicubic\").astype(np.float32,\n",
    "                                  casting='unsafe')\n",
    "# Predict\n",
    "predicted = model.predict([img])\n",
    "print(\"\\n\\n\\nPrediccion:\")\n",
    "# Check the result.\n",
    "if np.argmax(predicted[0]) == 0:\n",
    "    print(\"\\nEs una MARGARITA!\")\n",
    "elif np.argmax(predicted[0]) == 1:\n",
    "    print(\"\\nEs un DIENTE DE LEON!\")\n",
    "elif np.argmax(predicted[0]) == 2:\n",
    "    print(\"\\nEs una ROSA!\")\n",
    "elif np.argmax(predicted[0]) == 3:\n",
    "    print(\"\\nEs un GIRASOL!\")\n",
    "elif np.argmax(predicted[0]) == 4:\n",
    "    print(\"\\nEs un TULIPAN!\")\n",
    "print(\"\\nProbabilidades: \"+str(np.around(predicted[0]*100, decimals=3)))\n",
    "print(\"\\n\\n\\n\")\n"
   ]
  },
  {
   "cell_type": "code",
   "execution_count": null,
   "metadata": {},
   "outputs": [],
   "source": []
  },
  {
   "cell_type": "code",
   "execution_count": null,
   "metadata": {},
   "outputs": [],
   "source": []
  }
 ],
 "metadata": {
  "kernelspec": {
   "display_name": "Python 3",
   "language": "python",
   "name": "python3"
  },
  "language_info": {
   "codemirror_mode": {
    "name": "ipython",
    "version": 3
   },
   "file_extension": ".py",
   "mimetype": "text/x-python",
   "name": "python",
   "nbconvert_exporter": "python",
   "pygments_lexer": "ipython3",
   "version": "3.6.7"
  }
 },
 "nbformat": 4,
 "nbformat_minor": 2
}
